{
 "cells": [
  {
   "cell_type": "markdown",
   "id": "e7778dc2",
   "metadata": {},
   "source": [
    "Пусть f(x) = ln(1+ x); тогда f'(x) = (1+ x)-1,  f\"(x) = (-1)(1+ x)-2,\n",
    "\n",
    "вообще, f(n)(x) = (-1)^(n+1) * (n - 1)!(1+ x)^(-n), поэтому\n",
    "\n",
    "f(n)(0) = (-1)^(n+1)(n - 1)!,       \n",
    "\n",
    "так как f(0) = 0, то ln(1+x)=x-x^2/2+...+(-1)^n*x^n/n\n",
    "\n",
    "\n",
    "    Замечание. Отметим, что\n",
    "\n",
    "axn + o(xn) = O(xn),    x0.\n",
    "\n",
    "\n",
    "\n",
    "Действительно, o(xn) = эпсилон(x)xn, где эпсилон(x) = 0. Поэтому существует такое дельта > 0, что при |x| < дельта имеем\n",
    "|эпсилон(x)| < 1 и, следовательно,\n",
    "\n",
    "|axn + o(xn)| = |axn + эпсилон(xn)| < (|a| + 1)|xn|."
   ]
  },
  {
   "cell_type": "code",
   "execution_count": 4,
   "id": "dc0212df",
   "metadata": {},
   "outputs": [
    {
     "name": "stdout",
     "output_type": "stream",
     "text": [
      "Вычисление ln(1+0.5) с точностью 1e-06:\n",
      "Итерация 1: 0.50000000\n",
      "Итерация 2: 0.37500000\n",
      "Итерация 3: 0.41666667\n",
      "Итерация 4: 0.40104167\n",
      "Итерация 5: 0.40729167\n",
      "Итерация 6: 0.40468750\n",
      "Итерация 7: 0.40580357\n",
      "Итерация 8: 0.40531529\n",
      "Итерация 9: 0.40553230\n",
      "Итерация 10: 0.40543465\n",
      "Итерация 11: 0.40547904\n",
      "Итерация 12: 0.40545869\n",
      "Итерация 13: 0.40546808\n",
      "Итерация 14: 0.40546372\n",
      "Итерация 15: 0.40546576\n",
      "\n",
      "Точное значение: 0.40546511\n"
     ]
    }
   ],
   "source": [
    "import numbers\n",
    "\n",
    "def tailor_gen(x, accuracy):\n",
    "    \"\"\"\n",
    "    Генератор для разложения в ряд Тейлора функции f(x) = ln(1+x)\n",
    "    Args:\n",
    "        x: аргумент функции (должен быть > -1)\n",
    "        accuracy: точность вычислений\n",
    "    Yields:\n",
    "        Последовательные приближения значения ln(1+x)\n",
    "    \"\"\"\n",
    "    assert isinstance(x, numbers.Real) and x > -1, \"x должен быть действительным числом > -1\"\n",
    "    assert accuracy > 0, \"Точность должна быть положительным числом\"\n",
    "    \n",
    "    n = 1\n",
    "    current_sum = 0.0\n",
    "    \n",
    "    while True:\n",
    "        # Вычисляем n-й член ряда: (-1)^(n-1) * x^n / n\n",
    "        term = ((-1) ** (n - 1)) * (x ** n) / n\n",
    "        \n",
    "        # Если модуль члена ряда меньше точности, завершаем\n",
    "        if abs(term) < accuracy:\n",
    "            break\n",
    "            \n",
    "        current_sum += term\n",
    "        yield current_sum\n",
    "        n += 1\n",
    "\n",
    "# Пример использования с заданной точностью и аргументом\n",
    "x = 0.5\n",
    "accuracy = 1e-6\n",
    "\n",
    "print(f\"Вычисление ln(1+{x}) с точностью {accuracy}:\")\n",
    "\n",
    "for i, approximation in enumerate(tailor_gen(x, accuracy), 1):\n",
    "    print(f\"Итерация {i}: {approximation:.8f}\")\n",
    "\n",
    "# Для сравнения - точное значение\n",
    "import math\n",
    "exact_value = math.log(1 + x)\n",
    "print(f\"\\nТочное значение: {exact_value:.8f}\")"
   ]
  }
 ],
 "metadata": {
  "kernelspec": {
   "display_name": "base",
   "language": "python",
   "name": "python3"
  },
  "language_info": {
   "codemirror_mode": {
    "name": "ipython",
    "version": 3
   },
   "file_extension": ".py",
   "mimetype": "text/x-python",
   "name": "python",
   "nbconvert_exporter": "python",
   "pygments_lexer": "ipython3",
   "version": "3.13.5"
  }
 },
 "nbformat": 4,
 "nbformat_minor": 5
}
