{
 "cells": [
  {
   "cell_type": "markdown",
   "id": "e7778dc2",
   "metadata": {},
   "source": [
    "Пусть f(x) = ln(1+ x); тогда f'(x) = (1+ x)-1,  f\"(x) = (-1)(1+ x)-2,\n",
    "\n",
    "вообще, f(n)(x) = (-1)^(n+1) * (n - 1)!(1+ x)^(-n), поэтому\n",
    "\n",
    "f(n)(0) = (-1)^(n+1)(n - 1)!,       \n",
    "\n",
    "так как f(0) = 0, то ln(1+x)=x-x^2/2+...+(-1)^n*x^n/n\n",
    "\n",
    "\n",
    "    Замечание. Отметим, что\n",
    "\n",
    "axn + o(xn) = O(xn),    x0.\n",
    "\n",
    "\n",
    "\n",
    "Действительно, o(xn) = эпсилон(x)xn, где эпсилон(x) = 0. Поэтому существует такое дельта > 0, что при |x| < дельта имеем\n",
    "|эпсилон(x)| < 1 и, следовательно,\n",
    "\n",
    "|axn + o(xn)| = |axn + эпсилон(xn)| < (|a| + 1)|xn|."
   ]
  },
  {
   "cell_type": "code",
   "execution_count": 15,
   "id": "3a1255f6",
   "metadata": {},
   "outputs": [
    {
     "name": "stdout",
     "output_type": "stream",
     "text": [
      "-50.0\n"
     ]
    }
   ],
   "source": [
    "import numbers\n",
    "def tailor_gen(x, accurance):\n",
    "    assert (isinstance(x, numbers.Real) and x>-1) #проверка, является выбранное число действительным и больше -1\n",
    "    n=1\n",
    "    sum=0.0\n",
    "    def factor(n):\n",
    "        res=(x**n)/n*((-1)**(n-1))\n",
    "        return res\n",
    "    while factor(n)>=accurance:\n",
    "        sum += factor(n:=n+1)\n",
    "        print(sum)\n",
    "\n",
    "tailor_gen(10,10)"
   ]
  },
  {
   "cell_type": "code",
   "execution_count": 29,
   "id": "6a4ac064",
   "metadata": {},
   "outputs": [
    {
     "data": {
      "text/plain": [
       "<generator object taylor_gen at 0x000001DFA63D4310>"
      ]
     },
     "execution_count": 29,
     "metadata": {},
     "output_type": "execute_result"
    }
   ],
   "source": [
    "import numbers\n",
    "from typing import Generator, Iterable, Any, Iterator\n",
    "\n",
    "def taylor_gen(x):\n",
    "    assert (isinstance(x, numbers.Real) and x>-1) #проверка, является выбранное число действительным и больше -1\n",
    "    n=1\n",
    "    sum=0.0\n",
    "    def factor(n):\n",
    "        res=(x**n)/n*((-1)**(n-1))\n",
    "        return res\n",
    "    while True:\n",
    "        sum += factor(n:=n+1)\n",
    "        yield sum\n",
    "\n",
    "einstain_gen: Generator[float, None, None]=taylor_gen(10)\n",
    "einstain_iterator: Iterable[float]=iter(einstain_gen)\n",
    "epsilon: float=0.00001\n",
    "curr_sum = next(einstain_iterator)\n",
    "\n",
    "spisok: list[Any]\n",
    "\n",
    "iter_spisok: Iterator[any]=iter(spisok)\n",
    "while curr_sum-(curr_sum:=next(einstain_iterator))>epsilon:\n",
    "    print(curr_sum)\n",
    "\n",
    "taylor_gen(10)\n"
   ]
  },
  {
   "cell_type": "markdown",
   "id": "566e02ef",
   "metadata": {},
   "source": [
    "f(x)"
   ]
  },
  {
   "cell_type": "code",
   "execution_count": 8,
   "id": "bc3281c6",
   "metadata": {},
   "outputs": [],
   "source": [
    "from typing import Callable\n",
    "\n",
    "def grad(f:Callable[[float], float], eps:float=1e-4) -> Callable[[float],float]:\n",
    "    def func(x:float)->float:\n",
    "        return (f(x+eps)-f(x-eps))/(2*eps)\n",
    "    return func\n",
    "def any_name(x:float)-> float:\n",
    "        return x**2+0.5\n",
    "\n",
    "\n",
    "derivative=grad(f=any_name, eps=0.1)\n"
   ]
  },
  {
   "cell_type": "code",
   "execution_count": 9,
   "id": "927a1db1",
   "metadata": {},
   "outputs": [
    {
     "data": {
      "text/plain": [
       "5.000000000000004"
      ]
     },
     "execution_count": 9,
     "metadata": {},
     "output_type": "execute_result"
    }
   ],
   "source": [
    "derivative(2.5)"
   ]
  },
  {
   "cell_type": "code",
   "execution_count": null,
   "id": "2ffc08d6",
   "metadata": {},
   "outputs": [
    {
     "ename": "SyntaxError",
     "evalue": "invalid syntax. Perhaps you forgot a comma? (584437546.py, line 3)",
     "output_type": "error",
     "traceback": [
      "  \u001b[36mCell\u001b[39m\u001b[36m \u001b[39m\u001b[32mIn[13]\u001b[39m\u001b[32m, line 3\u001b[39m\n\u001b[31m    \u001b[39m\u001b[31mgrad_ : list[Callable[],] = list()\u001b[39m\n                 ^\n\u001b[31mSyntaxError\u001b[39m\u001b[31m:\u001b[39m invalid syntax. Perhaps you forgot a comma?\n"
     ]
    }
   ],
   "source": [
    "def f(*args: Iterable[float]) -> float:\n",
    "    args: Iterable[float]\n",
    "    grad_ : list[Callable[]] = list()\n",
    "    for i in range(len(args)):\n",
    "        fixed_args_1, changabe_arg, fixed_args_2=args[:i-1], args[i], args[i+1:]\n",
    "        def new_f(x):\n",
    "            return grad*(lambda x:f(fixed_args_1, fixed_args_2))\n",
    "        grad.append(new_f)"
   ]
  }
 ],
 "metadata": {
  "kernelspec": {
   "display_name": ".venv",
   "language": "python",
   "name": "python3"
  },
  "language_info": {
   "codemirror_mode": {
    "name": "ipython",
    "version": 3
   },
   "file_extension": ".py",
   "mimetype": "text/x-python",
   "name": "python",
   "nbconvert_exporter": "python",
   "pygments_lexer": "ipython3",
   "version": "3.11.9"
  }
 },
 "nbformat": 4,
 "nbformat_minor": 5
}
