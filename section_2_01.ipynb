{
 "cells": [
  {
   "cell_type": "markdown",
   "id": "92322f8c",
   "metadata": {},
   "source": [
    "### Задание 1: Работа с булевыми значениями\n",
    "\n",
    "Создайте функцию `check_conditions`, которая принимает три булевых параметра и возвращает результат сложной логической операции:\n",
    "\n",
    "- Если все три параметра True, вернуть True\n",
    "- Если ровно два параметра True, вернуть False  \n",
    "- Если ровно один параметр True, вернуть True\n",
    "- Если все параметры False, вернуть False\n",
    "\n",
    "Используйте только логические операторы `and`, `or`, `not`."
   ]
  },
  {
   "cell_type": "code",
   "execution_count": null,
   "id": "883d18ca",
   "metadata": {},
   "outputs": [],
   "source": [
    "def check_conditions(a: bool, b: bool, c: bool) -> bool:\n",
    "   if a and not b and not c:\n",
    "      return True\n",
    "   if b and not a and not c:\n",
    "      return True\n",
    "   if c and not b and not a:\n",
    "      return True\n",
    "   else:\n",
    "      return a and b and c\n",
    " \n",
    "\n",
    "# Тесты для проверки\n",
    "print(\"Тесты для check_conditions:\")\n",
    "print(f\"Все True: {check_conditions(True, True, True)}\")  # Ожидается True\n",
    "print(f\"Два True: {check_conditions(True, True, False)}\")  # Ожидается False\n",
    "print(f\"Один True: {check_conditions(True, False, False)}\")  # Ожидается True\n",
    "print(f\"Все False: {check_conditions(False, False, False)}\")  # Ожидается False\n",
    "print(f\"Все True: {check_conditions(True, False, True)}\"),   # False\n",
    "print(f\"Два True: {check_conditions(False, True, True)}\")  # Ожидается False\n",
    "print(f\"Один True: {check_conditions(False, True, False)}\")  # Ожидается True\n",
    "print(f\"Все False: {check_conditions(False, False, True)}\")  # Ожидается True\n",
    "\n"
   ]
  },
  {
   "cell_type": "markdown",
   "id": "5f5731c3",
   "metadata": {},
   "source": [
    "### Задание 2: Работа с числовыми типами\n",
    "\n",
    "Создайте функцию `calculate_quadratic_roots`, которая вычисляет корни квадратного уравнения ax² + bx + c = 0.\n",
    "\n",
    "Функция должна:\n",
    "- Принимать коэффициенты a, b, c как float\n",
    "- Возвращать кортеж с корнями уравнения\n",
    "- Обрабатывать случаи когда дискриминант отрицательный (возвращать None)\n",
    "- Использовать комплексные числа для отрицательного дискриминанта\n",
    "- Включать проверки входных данных"
   ]
  },
  {
   "cell_type": "code",
   "execution_count": null,
   "id": "d4ea7695",
   "metadata": {},
   "outputs": [
    {
     "data": {
      "text/plain": [
       "((-1+2j), (-1-2j))"
      ]
     },
     "execution_count": 88,
     "metadata": {},
     "output_type": "execute_result"
    }
   ],
   "source": [
    "import math\n",
    "import cmath\n",
    "from typing import Tuple, Union\n",
    "\n",
    "def calculate_quadratic_roots(a, b, c: float) -> Union[Tuple[float, float], Tuple[complex, complex], None]:\n",
    "    if not all(isinstance(coef, (int, float)) for coef in [a, b, c]):\n",
    "        raise TypeError(\"Все коэффициенты должны быть числами\")\n",
    "    if a==0:\n",
    "        return 'None'\n",
    "    #Вычисляем дискриминант\n",
    "    discriminant=b**2-4*a*c\n",
    "    if discriminant>0:\n",
    "        x_1=(-b+math.sqrt(discriminant))/(2*a)\n",
    "        x_2=(-b-math.sqrt(discriminant))/(2*a)\n",
    "        return tuple([x_1,x_2])\n",
    "    if discriminant==0:\n",
    "        x=-b/(2*a)\n",
    "        return (x,)\n",
    "    if discriminant<0:\n",
    "        x_1=(-b+cmath.sqrt(discriminant))/(2*a)\n",
    "        x_2=(-b-cmath.sqrt(discriminant))/(2*a)\n",
    "        return tuple([x_1,x_2])\n",
    "    \n",
    "calculate_quadratic_roots(1, 2, 5)\n",
    "    \n"
   ]
  },
  {
   "cell_type": "markdown",
   "id": "09a1a826",
   "metadata": {},
   "source": [
    "### Задание 3: Работа со списками и кортежами\n",
    "\n",
    "Создайте функцию `analyze_sequence`, которая анализирует последовательность чисел и возвращает статистику в виде именованного кортежа.\n",
    "\n",
    "Функция должна:\n",
    "- Принимать список чисел (int или float)\n",
    "- Вычислять: сумму, среднее, минимум, максимум, количество элементов\n",
    "- Возвращать результат как именованный кортеж\n",
    "- Обрабатывать пустой список (возвращать None)\n",
    "- Использовать только встроенные функции Python"
   ]
  },
  {
   "cell_type": "code",
   "execution_count": null,
   "id": "771956a0",
   "metadata": {},
   "outputs": [],
   "source": [
    "from collections import namedtuple\n",
    "from typing import List, Union, Optional\n",
    "\n",
    "# Создаем именованный кортеж \n",
    "Sequence_stats = namedtuple('Sequence_stats', ['sum', 'average', 'min', 'max', 'count'])\n",
    "\n",
    "def analyze_sequence(numbers: List[Union[int, float]]) -> Optional[Sequence_stats]:#Анализирует список-последовательность чисел и возвращает именнованный кортеж - статистику.\n",
    "\n",
    "# Если пустой список\n",
    "    if not numbers:\n",
    "        return 'None'\n",
    "# Проверяем, что все элементы - числа\n",
    "    if not all(isinstance(x, (int, float)) for x in numbers):\n",
    "        raise TypeError(\"Все элементы списка должны быть числами\")\n",
    "    \n",
    "    # Вычисляем статистику \n",
    "    total_sum = sum(numbers)\n",
    "    count = len(numbers)\n",
    "    average = total_sum / count\n",
    "    min_val = min(numbers)\n",
    "    max_val = max(numbers)\n",
    "    \n",
    "    return Sequence_stats(sum=total_sum, average=average, min=min_val, max=max_val, count=count)\n",
    "\n",
    "list=[1,'2',3.5]\n",
    "analyze_sequence(list)"
   ]
  },
  {
   "cell_type": "markdown",
   "id": "b0f54c4e",
   "metadata": {},
   "source": [
    "### Задание 4: Работа со строками\n",
    "\n",
    "Создайте функцию `format_person_info`, которая форматирует информацию о человеке в красивую строку.\n",
    "\n",
    "Функция должна:\n",
    "- Принимать имя, возраст, профессию и зарплату\n",
    "- Форматировать строку с выравниванием и ограничением точности для зарплаты\n",
    "- Обрабатывать случаи когда данные могут быть None\n",
    "- Возвращать отформатированную строку"
   ]
  },
  {
   "cell_type": "code",
   "execution_count": null,
   "id": "5ab1c373",
   "metadata": {},
   "outputs": [],
   "source": [
    "from typing import Optional\n",
    "\n",
    "def format_person_info(name: Optional[str], age: Optional[int], \n",
    "                      profession: Optional[str], salary: Optional[float]) -> str:\n",
    "    \"\"\"Форматирует информацию о человеке в красивую строку.\n",
    "    :param name: имя человека\n",
    "    :param age: возраст\n",
    "    :param profession: профессия\n",
    "    :param salary: зарплата\n",
    "    :return: отформатированная строка с информацией \"\"\"\n",
    "    # Обработка None значений\n",
    "    name = name if name is not None else \"Не указано\"\n",
    "    age = age if age is not None else \"Не указано\"\n",
    "    profession = profession if profession is not None else \"Не указано\"\n",
    "    salary = salary if salary is not None else \"Не указано\"\n",
    "    # Форматирование зарплаты (если это число)\n",
    "    if isinstance(salary, (int, float)):\n",
    "        salary = f\"{salary:.1f}\".replace('.', ',')\n",
    "        # Выравнивание с фиксированной шириной\n",
    "    return f\"\"\"Информация о человеке:\n",
    "Имя:       {str(name):<10}\n",
    "Возраст:   {str(age):<10}\n",
    "Профессия: {str(profession):<10}\n",
    "Зарплата:  {str(salary):<10}\"\"\"\n",
    "\n",
    "# Тесты для проверки\n",
    "print(\"Тесты для format_person_info:\")\n",
    "print(format_person_info(\"Иван Петров\", 30, \"Программист\", 150000.567))\n",
    "print(format_person_info(\"Мария\", 25, None, 120000))\n",
    "print(format_person_info(None, 35, \"Дизайнер\", None))\n",
    "print(format_person_info(\"Алексей\", None, \"Менеджер\", 95000.123))"
   ]
  },
  {
   "cell_type": "markdown",
   "id": "2a061bb1",
   "metadata": {},
   "source": [
    "### Задание 5: Комплексная задача\n",
    "\n",
    "Создайте функцию `process_data`, которая обрабатывает список строк с данными о студентах и возвращает статистику.\n",
    "\n",
    "Каждая строка имеет формат: \"Имя,Возраст,Оценка1,Оценка2,Оценка3\"\n",
    "\n",
    "Функция должна:\n",
    "- Парсить строки и извлекать данные\n",
    "- Вычислять среднюю оценку для каждого студента\n",
    "- Находить лучшего и худшего студента по средней оценке\n",
    "- Возвращать результат в виде словаря с ключами: 'best_student', 'worst_student', 'average_grade'\n",
    "- Обрабатывать ошибки парсинга (пропускать некорректные строки)"
   ]
  },
  {
   "cell_type": "code",
   "execution_count": 15,
   "id": "08d408da",
   "metadata": {},
   "outputs": [
    {
     "name": "stdout",
     "output_type": "stream",
     "text": [
      "Тесты для process_data:\n",
      "Результат: {'best_student': 'Алексей Козлов', 'worst_student': 'Петр Иванов', 'average_grade': 3.733}\n"
     ]
    }
   ],
   "source": [
    "from typing import List, Dict, Any\n",
    "\n",
    "def process_data(student_data: List[str]) -> Dict[str, Any]:\n",
    "    \"\"\" Обрабатывает данные о студентах и возвращает статистику.\n",
    "    :param student_data: список строк с данными в формате \"Имя,Возраст,Оценка1,Оценка2,Оценка3\"\n",
    "    :return: словарь со статистикой\"\"\"\n",
    "    Students_res=[]\n",
    "    for item in student_data:\n",
    "        try:\n",
    "            parced_item=item.split(',')\n",
    "            if len(parced_item)<5:\n",
    "                continue\n",
    "            name = parced_item[0].strip()\n",
    "            age = int(parced_item[1].strip())\n",
    "            grades = [int(grade.strip()) for grade in parced_item[2:5]] #Извлекаем значения оценок\n",
    "            if any(grade < 1 or grade > 5 for grade in grades):  # Проверяем корректность оценок\n",
    "                continue    \n",
    "            average_grade=sum(grades)/len(grades)\n",
    "            Students_res.append({\n",
    "                'name': name,\n",
    "                'age' : age,\n",
    "                'grades': grades,\n",
    "                'average_grade': average_grade\n",
    "            })\n",
    "        except (ValueError, IndexError): # Пропускаем строки с ошибками парсинга\n",
    "            continue\n",
    "    \n",
    "    best_student = max(Students_res, key=lambda x: x['average_grade']) # Находим лучшего и худшего студента\n",
    "    worst_student = min(Students_res, key=lambda x: x['average_grade'])\n",
    "    \n",
    "    # Вычисляем общую среднюю оценку\n",
    "    total_average = sum(student['average_grade'] for student in Students_res) / len(Students_res)\n",
    "    \n",
    "    return {\n",
    "        'best_student': best_student['name'],\n",
    "        'worst_student': worst_student['name'],\n",
    "        'average_grade': round(total_average, 3)\n",
    "    }\n",
    "    \n",
    "    \n",
    "\n",
    "# Тестовые данные\n",
    "student = [\n",
    "    \"Иван Петров,20,5,4,4\",\n",
    "    \"Мария Сидорова,19,3,4,3\",\n",
    "    \"Алексей Козлов,21,5,5,5\",\n",
    "    \"Анна Морозова,20,4,3,4\",\n",
    "    \"Некорректная строка\",\n",
    "    \"Петр Иванов,22,2,3,2\"\n",
    "]\n",
    "\n",
    "# Тесты для проверки\n",
    "print(\"Тесты для process_data:\")\n",
    "print(f\"Результат: {process_data(student)}\")\n"
   ]
  }
 ],
 "metadata": {
  "kernelspec": {
   "display_name": "base",
   "language": "python",
   "name": "python3"
  },
  "language_info": {
   "codemirror_mode": {
    "name": "ipython",
    "version": 3
   },
   "file_extension": ".py",
   "mimetype": "text/x-python",
   "name": "python",
   "nbconvert_exporter": "python",
   "pygments_lexer": "ipython3",
   "version": "3.13.5"
  }
 },
 "nbformat": 4,
 "nbformat_minor": 5
}
