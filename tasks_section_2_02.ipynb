{
 "cells": [
  {
   "cell_type": "markdown",
   "id": "c5dd7e5b",
   "metadata": {},
   "source": [
    "Реализуйте простую модель стоянки. \n",
    "1) Скажем, ваши автомобили это именованные кортежи, с указанием марки автомобиля, модели, гос.номера и цвета\n",
    "2) Сама стоянка это двусторонняя очередь (deque).\n",
    "3) Представим, что у нас нет коллизий, и если места на стоянке нет, то виртуально вызывается эвакуатор и убирает самый крайний автомобиль (как и работает deque)\n",
    "4) Создайте набор автомобилей и в случайном порядке добавляйте/удаляйте их с автостоянки.\n",
    "5) Посчитайте, сколько и каких автомобилей осталось на автостоянке."
   ]
  },
  {
   "cell_type": "code",
   "execution_count": null,
   "id": "33124a2f",
   "metadata": {},
   "outputs": [],
   "source": [
    "from collections import namedtuple\n",
    "from typing import NamedTuple\n",
    "\n",
    "from collections import deque\n",
    "#создаем именнованый кортеж для указания марки, модели, гос.номера и цвета автомобиля\n",
    "my_cars=namedtuple('my_cars', ['brand', 'type', 'state_number', 'color'])\n",
    "#автопарк\n",
    "mercedes_benz: my_cars=my_cars(brand='mercedes_benz', type='maybach', state_number='ААА000', color='black')\n",
    "ferrari: my_cars=my_cars(brand='ferrari', type='488', state_number='BBB111', color='red')\n",
    "knight: my_cars=my_cars(brand='knight', type='XV', state_number='CCC333', color='grey')\n",
    "lamborghini: my_cars=my_cars(brand='lamborghini', type='revuelto', state_number='DDD444', color='white')\n",
    "porsche: my_cars=my_cars(brand='mporsch', type='GT3 RS', state_number='EEE000', color='black')\n",
    "bmw: my_cars=my_cars(brand='bmw', type='X5', state_number='А704БВ83', color='белый')\n",
    "toyota: my_cars=my_cars(brand='toyota', type='RAV4', state_number='А426БВ93', color='черный')\n",
    "cars=[mercedes_benz,ferrari,knight,lamborghini,porsche,bmw,toyota]\n",
    "my_parking = deque(maxlen=4)\n",
    "selected_cars=[knight,lamborghini,porsche,bmw,toyota]\n",
    "for car in selected_cars:\n",
    "    my_parking.append(car)\n",
    "print(my_parking)\n",
    "print(\"Автомобили на стоянке:\")\n",
    "for i, car in enumerate(my_parking, 1):\n",
    "    print(f\"{i}. {car.brand} {car.type} {car.state_number} ({car.color})\")\n",
    "print(f\"\\nВсего автомобилей: {len(my_parking)}\")"
   ]
  },
  {
   "cell_type": "markdown",
   "id": "9d3e5c8e",
   "metadata": {},
   "source": [
    "Теперь вы работаете в роли архивариуса РСФСР и занимаетесь хранением информации об имуществе раскулаченных граждан Имперской России.\n",
    "У вас несколько книг с записями, упорядоченных по алфавиту. Каждая книга хранит фамилии, начинающиеся с конкретной буквы.\n",
    "Внутри книги указаны фамилии, к каждому гражданину указана категория имущества, например, мебель, посуда, картины и т.д.\n",
    "В каждой категории указан список вещей, которые были изъяты. \n",
    "Вы вносите записи, и если новой записи нет, вы ее создаете. Затем, когда ищите конкретную категорию предмета, начинаете перебирать все книги, начиная с первой буквы по алфавиту в вашем списке.\n",
    "Очевидно, что вам нужно использовать defaultdict и ChainMap."
   ]
  },
  {
   "cell_type": "code",
   "execution_count": null,
   "id": "091ce7e1",
   "metadata": {},
   "outputs": [],
   "source": [
    "from collections import defaultdict, ChainMap\n",
    "from typing import Dict, List, Union\n",
    "\n",
    "BooksType = Dict[str, defaultdict]  \n",
    "# Книги для каждой буквы\n",
    "books: BooksType={letter: defaultdict(lambda: defaultdict(list)) for letter in 'АБВГДЕЁЖЗИКЛМНОПРСТУФХЦЧШЩЭЮЯ'}\n",
    "def add_record(surname:str, category: str, items: Union[str, List[str]]):\n",
    "    first_letter: str = surname[0].upper()  # Первая буква фамилии\n",
    "    book = books[first_letter]\n",
    "    book[surname][category].extend(items) # Если записи нет, то создается автоматически\n",
    "\n",
    "archive: ChainMap=ChainMap(*books.values())\n",
    "Found_itemType = Dict[str, Union[str, List[str]]]\n",
    "def find_category_with_chainmap(target:str) ->List [Found_itemType]: #Чтобы найти все записи в книгах с указанной категорией\n",
    "    found_items: List[Found_itemType]\n",
    "    for surname, categories in archive.items():\n",
    "        if target in categories:\n",
    "            found_items.append({\n",
    "                'surname': surname,\n",
    "                'items': categories[target]\n",
    "            })\n",
    "    \n",
    "    return found_items\n"
   ]
  },
  {
   "cell_type": "markdown",
   "id": "3c9efb18",
   "metadata": {},
   "source": [
    "Используя sys и os:\n",
    "1) Выведите некоторые ваши директории с указанием размера всех файлов и упорядочьте их (директории) по времени последнего обращения\n",
    "2) Выведите список расширений файлов, которые хранятся на вашем ПК\n",
    "3) Посчитайте объем памяти, который используется вашим интерпретатором"
   ]
  },
  {
   "cell_type": "code",
   "execution_count": null,
   "id": "6ce2578d",
   "metadata": {},
   "outputs": [],
   "source": [
    "import os\n",
    "from typing import Dict, List\n",
    "\n",
    "\n",
    "def files_information(dirpath) ->Dict:\n",
    "    files_info=[]\n",
    "    for root, dirs, files in os.walk(dirpath):\n",
    "        for filename in files:\n",
    "            file_path=os.path.join(root, filename)\n",
    "            try:\n",
    "                files_info.append({\n",
    "                        'name': filename,\n",
    "                        'size': os.path.getsize(file_path),\n",
    "                        'access_time': os.path.getatime(file_path)\n",
    "                        })\n",
    "            except (OSError, PermissionError):\n",
    "                continue\n",
    "    return files_info\n",
    "def analyze_directories(dirpath) -> List[Dict]: #Проанализировать саму директорию\n",
    "    directories_info = []\n",
    "    # Проверяем существование основной директории\n",
    "    if not os.path.exists(dirpath) or not os.path.isdir(dirpath):\n",
    "        print(f\" Директория не существует или недоступна: {dirpath}\")\n",
    "        return directories_info\n",
    "    # Получаем список поддиректорий\n",
    "    for dir in os.listdir(dirpath):\n",
    "        dir_path = os.path.join(dirpath, dir)\n",
    "        if os.path.isdir(dir_path):\n",
    "            try:\n",
    "                # Получаем информацию о файлах в директории\n",
    "                files_info = files_information(dir_path)\n",
    "                if files_info:  # Если есть файлы в директории\n",
    "                    last_access = max(file['access_time'] for file in files_info) if files_info else 0 # Находим время последнего доступа\n",
    "                    \n",
    "                    directories_info.append({\n",
    "                        'name': dir,\n",
    "                        'path': dir_path,\n",
    "                        'last_access_time': last_access,\n",
    "                        'files': files_info\n",
    "                    })\n",
    "                \n",
    "            except (OSError, PermissionError) as e:\n",
    "                print(f\"Ошибка доступа к директории {dir}: {e}\")\n",
    "                continue\n",
    "    \n",
    "    # Сортируем директории по времени последнего обращения\n",
    "    directories_info.sort(key=lambda x: x['last_access_time'], reverse=True)\n",
    "    return directories_info\n",
    "\n",
    "dirpath = 'D:\\\\stuff'\n",
    "analyze_directories(dirpath)"
   ]
  },
  {
   "cell_type": "code",
   "execution_count": null,
   "id": "35a6e083",
   "metadata": {},
   "outputs": [],
   "source": [
    "import os\n",
    "from collections import Counter\n",
    "from typing import Dict\n",
    "\n",
    "def get_all_file_extensions(start_path: str) -> Dict[str, int]:\n",
    "    start_path = \"C:\\\\\"\n",
    "    extensions_counter = Counter()\n",
    "    processed_files = 0\n",
    "    try:\n",
    "        for root, dirs, files in os.walk(start_path):\n",
    "            # Пропускаем системные директории для ускорения\n",
    "            skip_dirs = ['Windows', 'Program Files', 'Program Files (x86)', \n",
    "                        'System Volume Information', '$Recycle.Bin', 'Temp']\n",
    "            dirs[:] = [d for d in dirs if d not in skip_dirs]\n",
    "            \n",
    "            for file in files:\n",
    "                # Получаем расширение файла\n",
    "                _, ext = os.path.splitext(file)\n",
    "                if ext:  # Если есть расширение\n",
    "                    extensions_counter[ext] += 1\n",
    "                    \n",
    "    except (PermissionError, OSError) as e:\n",
    "        print(f\" Остановлено из-за ошибки доступа: {e}\")\n",
    "    return dict(extensions_counter)\n",
    "    \n",
    "def print_extensions_report(extensions_counter: Dict[str, int], top_n: int = 10):\n",
    "    # Сортируем по частоте встречаемости\n",
    "    sorted_extensions = sorted(extensions_counter.items(), key=lambda x: x[1], reverse=True)\n",
    "    \n",
    "    print(f\"\\nТоп-{top_n} самых распространенных расширений:\")\n",
    "    for i, (ext, count) in enumerate(sorted_extensions[:top_n], 1):\n",
    "        print(f\"{i}. {ext:6} - {count:>8} файлов\")\n",
    "\n",
    "\n",
    "extensions_counter = get_all_file_extensions(\"C:\\\\\")\n",
    "print(extensions_counter)\n",
    "print_extensions_report(extensions_counter)\n"
   ]
  },
  {
   "cell_type": "code",
   "execution_count": 161,
   "id": "e4576905",
   "metadata": {},
   "outputs": [
    {
     "name": "stdout",
     "output_type": "stream",
     "text": [
      "Выделенные блоки: 1367462\n"
     ]
    },
    {
     "data": {
      "text/plain": [
       "1367462"
      ]
     },
     "execution_count": 161,
     "metadata": {},
     "output_type": "execute_result"
    }
   ],
   "source": [
    "import sys\n",
    "\n",
    "def get_detailed_memory_info():\n",
    "    \"\"\"Детальная информация об использовании памяти\"\"\"\n",
    "    blocks = sys.getallocatedblocks()\n",
    "    #block_size = 512?  какой стандартный размер блока? \n",
    "    \n",
    "    #total_memory_blocks = blocks * block_size\n",
    "    \n",
    "    print(f\"Выделенные блоки: {blocks}\")\n",
    "    #print(f\"Память из блоков: {total_memory_blocks / 1024 / 1024:.2f} MB\")\n",
    "    \n",
    "    return blocks\n",
    "\n",
    "get_detailed_memory_info()"
   ]
  }
 ],
 "metadata": {
  "kernelspec": {
   "display_name": "base",
   "language": "python",
   "name": "python3"
  },
  "language_info": {
   "codemirror_mode": {
    "name": "ipython",
    "version": 3
   },
   "file_extension": ".py",
   "mimetype": "text/x-python",
   "name": "python",
   "nbconvert_exporter": "python",
   "pygments_lexer": "ipython3",
   "version": "3.13.5"
  }
 },
 "nbformat": 4,
 "nbformat_minor": 5
}
