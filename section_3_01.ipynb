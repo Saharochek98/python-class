{
  "cells": [
    {
      "cell_type": "markdown",
      "metadata": {
        "id": "KWbNelJyJmP1"
      },
      "source": [
        "Задание 1.1 Калькулятор оценок Принимает числовую оценку (0-100) и выводит соотв. буквенную оценку: 90-100 - А, 80-89 - В, 70-79 - С, 60-69 D, 0-59 - F       "
      ]
    },
    {
      "cell_type": "code",
      "execution_count": null,
      "metadata": {
        "colab": {
          "base_uri": "https://localhost:8080/"
        },
        "id": "0m9oU5lzJ2uO",
        "outputId": "4a4f61a5-f15f-4e02-9265-f70573540149"
      },
      "outputs": [],
      "source": [
        "def what_mark(score):\n",
        "  assert score in range (0,100), 'неверное значение'\n",
        "  if score>=90:\n",
        "    return 'A'\n",
        "  elif score>=80:\n",
        "    return 'B'\n",
        "  elif score>=70:\n",
        "    return 'C'\n",
        "  elif score>=60:\n",
        "    return 'D'\n",
        "  else:\n",
        "    return 'F'"
      ]
    },
    {
      "cell_type": "code",
      "execution_count": null,
      "metadata": {
        "colab": {
          "base_uri": "https://localhost:8080/"
        },
        "id": "AuKljnPMWxBT",
        "outputId": "b7025520-cbc0-4f4d-e44e-2e9a0f65953b"
      },
      "outputs": [],
      "source": [
        "def what_mark_2(score2):\n",
        "  assert score2 in range (0,100), 'неверное значение'\n",
        "  match score2:\n",
        "    case score2 if score2 > 89: return 'A'\n",
        "    case score2 if score2 > 79: return 'B'\n",
        "    case score2 if score2 > 69: return 'C'\n",
        "    case score2 if score2 > 59: return 'D'\n",
        "    case score2 if score2 <= 59: return 'F'"
      ]
    },
    {
      "cell_type": "markdown",
      "metadata": {
        "id": "dBnnMwxIf11f"
      },
      "source": [
        "Задание 1.2: Проверка года на високосность\n",
        "\n",
        "Создайте функцию, которая определяет, является ли год високосным. Год високосный, если:\n",
        "\n",
        "Он делится на 4, но не на 100, ИЛИ\n",
        "Он делится на 400"
      ]
    },
    {
      "cell_type": "code",
      "execution_count": null,
      "metadata": {
        "colab": {
          "base_uri": "https://localhost:8080/"
        },
        "id": "G3p9iQZRf4Cs",
        "outputId": "327503e6-319e-4264-e077-90fa096152ae"
      },
      "outputs": [],
      "source": [
        "def check_leapyear(year):\n",
        "  if year < 0: raise ValueError(\" a не может быть отрицательным\")\n",
        "  if year % 4 == 0 and year % 100 !=0:\n",
        "    return 'год високосный'\n",
        "  elif year % 400 ==0:\n",
        "    return 'год високосный'\n",
        "  else:\n",
        "    return 'год не високосный'\n"
      ]
    },
    {
      "cell_type": "markdown",
      "metadata": {
        "id": "4g88nS08nTGG"
      },
      "source": [
        "Задание 1.3: Классификация треугольников \n",
        "\n",
        "Напишите программу, которая по трем сторонам треугольника определяет его тип:\n",
        "\n",
        "Равносторонний (все стороны равны)\n",
        "Равнобедренный (две стороны равны)\n",
        "Разносторонний (все стороны разные)\n",
        "Не является треугольником (сумма двух сторон меньше третьей)"
      ]
    },
    {
      "cell_type": "code",
      "execution_count": null,
      "metadata": {
        "colab": {
          "base_uri": "https://localhost:8080/"
        },
        "id": "ZhiWV4QTu4Vp",
        "outputId": "83d35e3b-12de-40fd-bafa-a4408cb8293b"
      },
      "outputs": [],
      "source": [
        "def triangle(a,b,c):\n",
        "  if a <= 0 or b <= 0 or c <= 0:\n",
        "    return \"Cтороны должны быть положительными числами\"\n",
        "  elif a + b <= c or a + c <= b or b + c <= a: return \"Не является треугольником\"\n",
        "  elif a == b == c: return \"Равносторонний\"\n",
        "  elif a == b or a == c or b == c: return \"Равнобедренный\""
      ]
    },
    {
      "cell_type": "markdown",
      "metadata": {
        "id": "9azbmVT2qUkB"
      },
      "source": [
        "Задание 2.1: Таблица умножения\n",
        "\n",
        "Создайте программу, которая выводит таблицу умножения от 1 до 10. Используйте вложенные циклы for"
      ]
    },
    {
      "cell_type": "code",
      "execution_count": null,
      "metadata": {},
      "outputs": [],
      "source": [
        "for i in range(1,11):\n",
        "  for j in range(1,11):\n",
        "    num=i*j\n",
        "    print(f\"{num:<2}\", end=\"  \")\n",
        "  print()"
      ]
    },
    {
      "cell_type": "markdown",
      "metadata": {
        "id": "OPGj_tCk8OuN"
      },
      "source": [
        "Задание 2.2: Поиск простых чисел\n",
        "\n",
        "Напишите функцию, которая находит все простые числа от 2 до заданного числа n. Используйте цикл for и проверку делимости."
      ]
    },
    {
      "cell_type": "code",
      "execution_count": null,
      "metadata": {
        "colab": {
          "base_uri": "https://localhost:8080/"
        },
        "id": "kqxDCqQS8P4O",
        "outputId": "00700829-682a-4885-8e6d-a9fa78118b0d"
      },
      "outputs": [],
      "source": [
        "def find(n):\n",
        "  prime_numbers = []\n",
        "  for i in range(2, n + 1):\n",
        "    condition=True\n",
        "    for r in range(2, i):\n",
        "      if i % r == 0:\n",
        "        condition=False\n",
        "        break\n",
        "    if condition:\n",
        "      prime_numbers.append(i)\n",
        "  return(prime_numbers)\n",
        "\n"
      ]
    },
    {
      "cell_type": "markdown",
      "metadata": {
        "id": "KWrVvDoX9WxS"
      },
      "source": [
        "Задание 2.3: Игра \"Угадай число\"\n",
        "\n",
        "Создайте игру, где компьютер загадывает случайное число от 1 до 100, а пользователь пытается его угадать. Программа должна:\n",
        "\n",
        "Генерировать случайное число\n",
        "Принимать ввод от пользователя\n",
        "Давать подсказки \"больше\" или \"меньше\"\n",
        "Считать количество попыток\n",
        "Использовать цикл while"
      ]
    },
    {
      "cell_type": "code",
      "execution_count": null,
      "metadata": {
        "colab": {
          "base_uri": "https://localhost:8080/"
        },
        "id": "Td9OvOPBzWpp",
        "outputId": "d5f97e14-6680-42a9-b1d2-64e80beda0df"
      },
      "outputs": [],
      "source": [
        "import random\n",
        "\n",
        "def guess_number():\n",
        "    secret_number = random.randint(1, 100) #получаем случайную величину в диапазоне от 1 до 100\n",
        "    attempts = 0                           #счетчик попыток\n",
        "\n",
        "    print(\"Это игра 'Угадай число'!\")\n",
        "    print(\"Загадано число от 1 до 100. Угадай!\")\n",
        "\n",
        "    while True:\n",
        "        try:\n",
        "            guess = int(input(\"Введи число: \"))\n",
        "            attempts += 1\n",
        "            if guess < secret_number:\n",
        "                print(\"Загаданное число больше\")\n",
        "            elif guess > secret_number:\n",
        "                print(\"Загаданное число меньше\")\n",
        "            else:\n",
        "                print(f\"Поздравляю! Число {secret_number} отгадано\")\n",
        "                print(f\"Количество попыток: {attempts}\")\n",
        "                break\n",
        "\n",
        "        except ValueError:\n",
        "            print(\"Введите целое число\")\n",
        "            continue\n",
        "\n",
        "guess_number()"
      ]
    },
    {
      "cell_type": "markdown",
      "metadata": {
        "id": "JdZtr4ue9aDB"
      },
      "source": [
        "Задание 2.4: Анализ текста\n",
        "\n",
        "Напишите программу, которая анализирует текст и выводит:\n",
        "\n",
        "Количество символов\n",
        "Количество слов\n",
        "Количество предложений\n",
        "Самые частые слова (топ-5)\n",
        "Используйте циклы for для обработки текста."
      ]
    },
    {
      "cell_type": "code",
      "execution_count": null,
      "metadata": {
        "colab": {
          "base_uri": "https://localhost:8080/"
        },
        "id": "z3StlmL33eex",
        "outputId": "104302a1-78dd-4bc9-8f92-a39376391c0d"
      },
      "outputs": [],
      "source": [
        "with open(\"D:\\\\python_project\\\\example.txt\", 'r', encoding=\"utf8\") as file:\n",
        "  text=file.read()                              #извлекаем текст\n",
        "from collections import Counter\n",
        "import re\n",
        "total_characters = len(text)\n",
        "# Заменяем знаки препинания на их \"эквиваленты\" с пробелом, чтобы split работал корректно\n",
        "text_processed = re.sub(r'[.!?]+', r'\\g<0> ', text)\n",
        "# Разбиваем текст на предложения\n",
        "sentences = text_processed.split('. ')\n",
        "# Убираем пустые строки, если были множественные знаки\n",
        "sentences = [s for s in sentences if s.strip()]\n",
        "# Подсчитываем количество предложений\n",
        "num_sentences = len(sentences)\n",
        "#заменим еще возможные дефисы\n",
        "text_changed=text_processed.replace('—', ' ')\n",
        "#считаем общее число слов\n",
        "total_words = len(text_changed.split())\n",
        "#запскаем счетчик одинаковых элементов и выводим топ-5\n",
        "c=Counter(text_changed.split()).most_common(5)\n",
        "\n",
        "\n",
        "print(f\"Количество символов: {total_characters}\")\n",
        "print(f\"Количество слов: {total_words}\")\n",
        "print(f\"Количество предложений: {num_sentences}\", f\"Самые частые слова: {c}\", sep='\\n')\n"
      ]
    },
    {
      "cell_type": "markdown",
      "metadata": {
        "id": "IjmDCTx09gxX"
      },
      "source": [
        "Задание 3.1: Безопасный калькулятор\n",
        "\n",
        "Создайте калькулятор, который безопасно выполняет арифметические операции:\n",
        "\n",
        "Принимает два числа и операцию (+, -, *, /)\n",
        "Обрабатывает деление на ноль\n",
        "Обрабатывает неверный ввод (не числа)\n",
        "Обрабатывает неверные операции\n",
        "Использует try-except-finally блоки"
      ]
    },
    {
      "cell_type": "code",
      "execution_count": null,
      "metadata": {
        "colab": {
          "base_uri": "https://localhost:8080/"
        },
        "id": "cAsW4Mx530mI",
        "outputId": "f24dad18-1e6e-4be6-edb1-e774a4807c20"
      },
      "outputs": [
        {
          "name": "stdout",
          "output_type": "stream",
          "text": [
            "Введите два числа и арифметическую операцию на выбор(+,-,*,/):\n"
          ]
        }
      ],
      "source": [
        "def calc(a,b,c):\n",
        "  try:\n",
        "    if c== '+':\n",
        "      res=a+b\n",
        "      return res\n",
        "    if c== '-':\n",
        "      res=a-b\n",
        "      return res\n",
        "    if c== '*':\n",
        "      res=a*b\n",
        "      return res\n",
        "    if c== '/':\n",
        "      res=a/b\n",
        "      return res\n",
        "  except ZeroDivisionError:\n",
        "      print(\"Ошибка: деление на ноль\")\n",
        "  except TypeError:\n",
        "    print(\"Неверный ввод, введите только числа\")\n",
        "  except ValueError:\n",
        "    print(\"Неверный ввод\")\n"
      ]
    }
  ],
  "metadata": {
    "colab": {
      "provenance": []
    },
    "kernelspec": {
      "display_name": ".venv",
      "language": "python",
      "name": "python3"
    },
    "language_info": {
      "codemirror_mode": {
        "name": "ipython",
        "version": 3
      },
      "file_extension": ".py",
      "mimetype": "text/x-python",
      "name": "python",
      "nbconvert_exporter": "python",
      "pygments_lexer": "ipython3",
      "version": "3.11.9"
    }
  },
  "nbformat": 4,
  "nbformat_minor": 0
}
